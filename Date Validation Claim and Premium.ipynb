{
 "cells": [
  {
   "cell_type": "code",
   "execution_count": 1,
   "metadata": {},
   "outputs": [],
   "source": [
    "import pandas as pd\n",
    "import numpy as np\n",
    "import datetime as dt\n"
   ]
  },
  {
   "cell_type": "code",
   "execution_count": 2,
   "metadata": {},
   "outputs": [],
   "source": [
    "df = pd.read_csv(\"D://Medgulf/Data/Tricast-GRH-01012014/Tricast-GRH-01012014.txt\", engine='python', sep=';', chunksize=100000)"
   ]
  },
  {
   "cell_type": "code",
   "execution_count": 3,
   "metadata": {},
   "outputs": [],
   "source": [
    "columns = ['Inception', 'Expiry','D.O.B','Entry Date','Effective Date']\n",
    "fmts = ['%d/%m/%Y', '/%m/%Y', '%Y', '%d//%Y', '%Y/%m/%d', '%Y/%d/%m', '%d/%m/%y', '%d-%b-%Y', '%m/%d/%Y', '%m/%Y']\n",
    "new_date = []\n",
    "j = []\n",
    "chunks = []"
   ]
  },
  {
   "cell_type": "code",
   "execution_count": 4,
   "metadata": {},
   "outputs": [
    {
     "name": "stdout",
     "output_type": "stream",
     "text": [
      "2020-03-10 13:31:41.124932\n",
      "we have completed  0 chunk\n",
      "2020-03-10 13:32:08.084016\n"
     ]
    }
   ],
   "source": [
    "## DATE VALIDATION (Actual Code) ##\n",
    "print(dt.datetime.now())\n",
    "for cx, chunk in enumerate(df):\n",
    "    for col in columns:\n",
    "        new_date = []\n",
    "\n",
    "        for idx, x in enumerate(chunk[col]):\n",
    "        #     print(\"date_string =\", x)\n",
    "        #     print(\"type of date_string =\", type(x))\n",
    "        \n",
    "            \n",
    "            for fmt in fmts:\n",
    "                try:\n",
    "                    x = str(x).replace(\"?\", \"01\")\n",
    "                    x = str(x).replace(\"Nan\", \"01\")\n",
    "                    x = str(x).replace(\"/0/\", \"0\")\n",
    "                    x = str(x).replace(\"/1/\", \"1\")\n",
    "\n",
    "                    date_object = dt.datetime.strptime(x, fmt).date()\n",
    "                    new_date.append((date_object))\n",
    "                    break\n",
    "\n",
    "                except:\n",
    "                    pass\n",
    "\n",
    "            if len(new_date) != idx:\n",
    "                pass\n",
    "            else:\n",
    "                x = \"None\"\n",
    "                new_date.append((x))\n",
    "\n",
    "        j = []\n",
    "        for idx, t in enumerate(new_date):\n",
    "    #         print (idx, '{}'.format(t))\n",
    "            a = '{}'.format(t)\n",
    "            j.append(a)\n",
    "       \n",
    "        chunk[col] = j\n",
    "    \n",
    "    print ('we have completed ', cx, 'chunk')\n",
    "    chunks.append(chunk)\n",
    "    if cx == 0:\n",
    "        break\n",
    "\n",
    "\n",
    "dfn = pd.concat(chunks, ignore_index=True)\n",
    "dfn.to_csv('New Premiums Tricast.txt', index =False)\n",
    "\n",
    "print(dt.datetime.now())"
   ]
  },
  {
   "cell_type": "markdown",
   "metadata": {},
   "source": [
    "# CLAIMS DATE"
   ]
  },
  {
   "cell_type": "code",
   "execution_count": 5,
   "metadata": {},
   "outputs": [],
   "source": [
    "df = pd.read_csv(\"D:/Medgulf/Data/CLAIMS_DATA/TricastAllClosedClaimsByService_NormalPolicies/TricastAllClosedClaimsByService_NormalPolicies.csv\", engine='python', sep=',', chunksize=100000)"
   ]
  },
  {
   "cell_type": "code",
   "execution_count": 6,
   "metadata": {},
   "outputs": [
    {
     "name": "stdout",
     "output_type": "stream",
     "text": [
      "Index(['Policy Holder PIN', 'Policy Number', 'Policy Inception',\n",
      "       'Policy Expiry', 'Insured PIN', 'HCP PIN', 'HCP Name', 'Claim Number',\n",
      "       'Claim Status', 'Claim Declaration', 'Claim Occurance',\n",
      "       'Claim Discharge', 'Claim Trx Date', 'Claim Origin',\n",
      "       'Master Batch Number', 'Claim Primary Diagnosis',\n",
      "       'Claim Primary Diagnosis DESC', 'Claim Type', 'Claim Benefit',\n",
      "       'Claim Benefit Desc', 'Claim Category Code', 'Claim Category',\n",
      "       'Claim Invoice Item Code', 'Claim Invoice Item', 'Invoice Gross',\n",
      "       'Invoice Discount', 'Invoice Deductible', 'Invoice CoInsurance',\n",
      "       'Invoice Rejected', 'Invoice Paid', 'Invoice Recovery', 'Batch Number',\n",
      "       'Batch Received Date', 'Batch Billing Month', 'Batch Billing Year',\n",
      "       'Batch Declared Amount', 'Batch Final Payment', 'Batch Created On',\n",
      "       'Batch Processor Date', 'Batch Doctor', 'Batch Doctor Date',\n",
      "       'Batch Status', 'Batch Closed Date', 'Claim Paid Date',\n",
      "       'Claim Received Date', 'Policy Holder Name', 'Policy Product',\n",
      "       'Invoive Paid Less Recovery', 'Claim Mapped BNF', 'HCP Country',\n",
      "       'HCP City', 'HCP Region', 'HCP Class', 'HCP Type', 'HCP Status',\n",
      "       'HCP Qtn', 'Claim Total Paid'],\n",
      "      dtype='object')\n"
     ]
    }
   ],
   "source": [
    "for chunk in df:\n",
    "    print(chunk.columns)\n",
    "    break"
   ]
  },
  {
   "cell_type": "code",
   "execution_count": 7,
   "metadata": {},
   "outputs": [],
   "source": [
    "columns = ['Policy Inception','Policy Expiry','Claim Declaration', 'Claim Occurance','Claim Discharge','Claim Paid Date','Claim Received Date']\n",
    "fmts = ['%d/%m/%Y', '/%m/%Y', '%Y', '%d//%Y', '%Y/%m/%d', '%Y/%d/%m', '%d/%m/%y', '%d-%b-%Y', '%m/%d/%Y', '%m/%Y']\n",
    "new_date = []\n",
    "j = []\n",
    "chunks = []"
   ]
  },
  {
   "cell_type": "code",
   "execution_count": 8,
   "metadata": {},
   "outputs": [
    {
     "name": "stdout",
     "output_type": "stream",
     "text": [
      "2020-03-10 13:34:00.588562\n",
      "we have completed  0 chunk 100000 rows\n",
      "2020-03-10 13:34:33.095100\n"
     ]
    }
   ],
   "source": [
    "## DATE VALIDATION (Actual Code) ##\n",
    "print(dt.datetime.now())\n",
    "for cx, chunk in enumerate(df):\n",
    "    for col in columns:\n",
    "        new_date = []\n",
    "\n",
    "        for idx, x in enumerate(chunk[col]):\n",
    "        #     print(\"date_string =\", x)\n",
    "        #     print(\"type of date_string =\", type(x))\n",
    "        \n",
    "            \n",
    "            for fmt in fmts:\n",
    "                try:\n",
    "                    x = str(x).replace(\"?\", \"01\")\n",
    "                    x = str(x).replace(\"Nan\", \"01\")\n",
    "                    x = str(x).replace(\"/0/\", \"0\")\n",
    "                    x = str(x).replace(\"/1/\", \"1\")\n",
    "\n",
    "                    date_object = dt.datetime.strptime(x, fmt).date()\n",
    "                    new_date.append((date_object))\n",
    "                    break\n",
    "\n",
    "                except:\n",
    "                    pass\n",
    "\n",
    "            if len(new_date) != idx:\n",
    "                pass\n",
    "            else:\n",
    "                x = \"None\"\n",
    "                new_date.append((x))\n",
    "\n",
    "        j = []\n",
    "        for idx, t in enumerate(new_date):\n",
    "    #         print (idx, '{}'.format(t))\n",
    "            a = '{}'.format(t)\n",
    "            j.append(a)\n",
    "       \n",
    "        chunk[col] = j\n",
    "    \n",
    "    print ('we have completed ', cx, 'chunk', (cx+1)*100000, 'rows')\n",
    "    chunks.append(chunk)\n",
    "    if cx == 0:\n",
    "        break\n",
    "\n",
    "\n",
    "dfn = pd.concat(chunks, ignore_index=True)\n",
    "dfn.to_csv('New Claims.txt', index =False)\n",
    "\n",
    "print(dt.datetime.now())"
   ]
  },
  {
   "cell_type": "code",
   "execution_count": null,
   "metadata": {},
   "outputs": [],
   "source": []
  }
 ],
 "metadata": {
  "kernelspec": {
   "display_name": "Python 3",
   "language": "python",
   "name": "python3"
  },
  "language_info": {
   "codemirror_mode": {
    "name": "ipython",
    "version": 3
   },
   "file_extension": ".py",
   "mimetype": "text/x-python",
   "name": "python",
   "nbconvert_exporter": "python",
   "pygments_lexer": "ipython3",
   "version": "3.7.4"
  }
 },
 "nbformat": 4,
 "nbformat_minor": 2
}
