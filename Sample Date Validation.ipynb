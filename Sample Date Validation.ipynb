{
 "cells": [
  {
   "cell_type": "code",
   "execution_count": 1,
   "metadata": {},
   "outputs": [],
   "source": [
    "import numpy as np\n",
    "import pandas as pd\n",
    "import datetime as dt"
   ]
  },
  {
   "cell_type": "code",
   "execution_count": 2,
   "metadata": {},
   "outputs": [],
   "source": [
    "df = pd.read_csv(\"C://Users/Muhammad.Tauqeer/Desktop/Date Sample.txt\", engine='python')"
   ]
  },
  {
   "cell_type": "code",
   "execution_count": 3,
   "metadata": {
    "collapsed": true
   },
   "outputs": [
    {
     "data": {
      "text/html": [
       "<div>\n",
       "<style scoped>\n",
       "    .dataframe tbody tr th:only-of-type {\n",
       "        vertical-align: middle;\n",
       "    }\n",
       "\n",
       "    .dataframe tbody tr th {\n",
       "        vertical-align: top;\n",
       "    }\n",
       "\n",
       "    .dataframe thead th {\n",
       "        text-align: right;\n",
       "    }\n",
       "</style>\n",
       "<table border=\"1\" class=\"dataframe\">\n",
       "  <thead>\n",
       "    <tr style=\"text-align: right;\">\n",
       "      <th></th>\n",
       "      <th>Date</th>\n",
       "    </tr>\n",
       "  </thead>\n",
       "  <tbody>\n",
       "    <tr>\n",
       "      <td>0</td>\n",
       "      <td>17/02/2020</td>\n",
       "    </tr>\n",
       "    <tr>\n",
       "      <td>1</td>\n",
       "      <td>Nan/02/2020</td>\n",
       "    </tr>\n",
       "    <tr>\n",
       "      <td>2</td>\n",
       "      <td>?/02/2020</td>\n",
       "    </tr>\n",
       "    <tr>\n",
       "      <td>3</td>\n",
       "      <td>0000</td>\n",
       "    </tr>\n",
       "    <tr>\n",
       "      <td>4</td>\n",
       "      <td>/02/2020</td>\n",
       "    </tr>\n",
       "    <tr>\n",
       "      <td>5</td>\n",
       "      <td>2020</td>\n",
       "    </tr>\n",
       "    <tr>\n",
       "      <td>6</td>\n",
       "      <td>01/01/16</td>\n",
       "    </tr>\n",
       "    <tr>\n",
       "      <td>7</td>\n",
       "      <td>2016/01/01</td>\n",
       "    </tr>\n",
       "    <tr>\n",
       "      <td>8</td>\n",
       "      <td>01-Feb-2019</td>\n",
       "    </tr>\n",
       "    <tr>\n",
       "      <td>9</td>\n",
       "      <td>?</td>\n",
       "    </tr>\n",
       "    <tr>\n",
       "      <td>10</td>\n",
       "      <td>05/?/2020</td>\n",
       "    </tr>\n",
       "    <tr>\n",
       "      <td>11</td>\n",
       "      <td>?/?/2020</td>\n",
       "    </tr>\n",
       "    <tr>\n",
       "      <td>12</td>\n",
       "      <td>02/17/2020</td>\n",
       "    </tr>\n",
       "    <tr>\n",
       "      <td>13</td>\n",
       "      <td>02/01/2020</td>\n",
       "    </tr>\n",
       "    <tr>\n",
       "      <td>14</td>\n",
       "      <td>02/2020</td>\n",
       "    </tr>\n",
       "  </tbody>\n",
       "</table>\n",
       "</div>"
      ],
      "text/plain": [
       "           Date\n",
       "0    17/02/2020\n",
       "1   Nan/02/2020\n",
       "2     ?/02/2020\n",
       "3          0000\n",
       "4      /02/2020\n",
       "5          2020\n",
       "6      01/01/16\n",
       "7    2016/01/01\n",
       "8   01-Feb-2019\n",
       "9             ?\n",
       "10    05/?/2020\n",
       "11     ?/?/2020\n",
       "12   02/17/2020\n",
       "13   02/01/2020\n",
       "14      02/2020"
      ]
     },
     "execution_count": 3,
     "metadata": {},
     "output_type": "execute_result"
    }
   ],
   "source": [
    "df"
   ]
  },
  {
   "cell_type": "code",
   "execution_count": 4,
   "metadata": {
    "collapsed": true
   },
   "outputs": [
    {
     "name": "stdout",
     "output_type": "stream",
     "text": [
      "17/02/2020           => %d/%m/%Y             => 2020-02-17\n",
      "01/02/2020           => %d/%m/%Y             => 2020-02-01\n",
      "01/02/2020           => %d/%m/%Y             => 2020-02-01\n",
      "/02/2020             => /%m/%Y               => 2020-02-01\n",
      "2020                 => %Y                   => 2020-01-01\n",
      "01/01/16             => %d/%m/%y             => 2016-01-01\n",
      "2016/01/01           => %Y/%m/%d             => 2016-01-01\n",
      "01-Feb-2019          => %d-%b-%Y             => 2019-02-01\n",
      "05/01/2020           => %d/%m/%Y             => 2020-01-05\n",
      "01/01/2020           => %d/%m/%Y             => 2020-01-01\n",
      "02/17/2020           => %m/%d/%Y             => 2020-02-17\n",
      "02/01/2020           => %d/%m/%Y             => 2020-01-02\n"
     ]
    }
   ],
   "source": [
    "## The code which give me idea that how to validate date.\n",
    "\n",
    "fmts = ['%d/%m/%Y', '/%m/%Y', '%Y', '%d//%Y', '%Y/%m/%d', '%Y/%d/%m', '%d/%m/%y', '%d-%b-%Y', '%m/%d/%Y']\n",
    "\n",
    "for x in df['Date']:\n",
    "    parsed=[]\n",
    "    for e in x.splitlines():\n",
    "        for fmt in fmts:\n",
    "            try:\n",
    "                e = str(e).replace(\"?\", \"01\")\n",
    "                e = str(e).replace(\"Nan\", \"01\")\n",
    "#                 e = str(e).replace(\"\", \"01\")\n",
    "                t = dt.datetime.strptime(e, fmt).date()\n",
    "                parsed.append((e, fmt, t)) \n",
    "                break\n",
    "            except:\n",
    "#                 parsed.append(e)\n",
    "#                 break\n",
    "                pass\n",
    "\n",
    "    # check that all the cases are handled        \n",
    "#     success={t[0] for t in parsed}\n",
    "#     for e in x.splitlines():\n",
    "#         if e  in success:\n",
    "#             print (e)    \n",
    "\n",
    "    for t in parsed:\n",
    "        print (\"{:20} => {:20} => {}\".format(*t) )"
   ]
  },
  {
   "cell_type": "code",
   "execution_count": 5,
   "metadata": {},
   "outputs": [
    {
     "name": "stdout",
     "output_type": "stream",
     "text": [
      "0 2020-02-17\n",
      "1 2020-02-01\n",
      "2 2020-02-01\n",
      "3 None\n",
      "4 2020-02-01\n",
      "5 2020-01-01\n",
      "6 2016-01-01\n",
      "7 2016-01-01\n",
      "8 2019-02-01\n",
      "9 None\n",
      "10 2020-01-05\n",
      "11 2020-01-01\n",
      "12 2020-02-17\n",
      "13 2020-01-02\n",
      "14 2020-02-01\n"
     ]
    }
   ],
   "source": [
    "## DATE VALIDATION (Actual Code) ##\n",
    "\n",
    "fmts = ['%d/%m/%Y', '/%m/%Y', '%Y', '%d//%Y', '%Y/%m/%d', '%Y/%d/%m', '%d/%m/%y', '%d-%b-%Y', '%m/%d/%Y', '%m/%Y']\n",
    "new_date = []\n",
    "j = []\n",
    "for idx, x in enumerate(df['Date']):\n",
    "#     print(\"date_string =\", x)\n",
    "#     print(\"type of date_string =\", type(x))\n",
    "    for fmt in fmts:\n",
    "        try:\n",
    "            x = str(x).replace(\"?\", \"01\")\n",
    "            x = str(x).replace(\"Nan\", \"01\")\n",
    "            date_object = dt.datetime.strptime(x, fmt).date()\n",
    "            new_date.append((date_object))\n",
    "            break\n",
    "            \n",
    "        except:\n",
    "            pass\n",
    "        \n",
    "    if len(new_date) != idx:\n",
    "        pass\n",
    "    else:\n",
    "        x = \"None\"\n",
    "        new_date.append((x))\n",
    "\n",
    "\n",
    "for idx, t in enumerate(new_date):\n",
    "    print (idx, '{}'.format(t))\n",
    "    a = '{}'.format(t)\n",
    "    j.append(a)\n",
    "    \n",
    "\n"
   ]
  },
  {
   "cell_type": "code",
   "execution_count": 6,
   "metadata": {},
   "outputs": [
    {
     "name": "stdout",
     "output_type": "stream",
     "text": [
      "15\n"
     ]
    },
    {
     "data": {
      "text/plain": [
       "['2020-02-17',\n",
       " '2020-02-01',\n",
       " '2020-02-01',\n",
       " 'None',\n",
       " '2020-02-01',\n",
       " '2020-01-01',\n",
       " '2016-01-01',\n",
       " '2016-01-01',\n",
       " '2019-02-01',\n",
       " 'None',\n",
       " '2020-01-05',\n",
       " '2020-01-01',\n",
       " '2020-02-17',\n",
       " '2020-01-02',\n",
       " '2020-02-01']"
      ]
     },
     "execution_count": 6,
     "metadata": {},
     "output_type": "execute_result"
    }
   ],
   "source": [
    "print(len(j))\n",
    "j"
   ]
  }
 ],
 "metadata": {
  "kernelspec": {
   "display_name": "Python 3",
   "language": "python",
   "name": "python3"
  },
  "language_info": {
   "codemirror_mode": {
    "name": "ipython",
    "version": 3
   },
   "file_extension": ".py",
   "mimetype": "text/x-python",
   "name": "python",
   "nbconvert_exporter": "python",
   "pygments_lexer": "ipython3",
   "version": "3.7.4"
  }
 },
 "nbformat": 4,
 "nbformat_minor": 2
}
