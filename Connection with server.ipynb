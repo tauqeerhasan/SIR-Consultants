{
 "cells": [
  {
   "cell_type": "code",
   "execution_count": 1,
   "metadata": {},
   "outputs": [],
   "source": [
    "import pyodbc"
   ]
  },
  {
   "cell_type": "code",
   "execution_count": 3,
   "metadata": {
    "scrolled": true
   },
   "outputs": [
    {
     "data": {
      "text/plain": [
       "['SQL Server',\n",
       " 'Microsoft Access Driver (*.mdb, *.accdb)',\n",
       " 'Microsoft Excel Driver (*.xls, *.xlsx, *.xlsm, *.xlsb)',\n",
       " 'Microsoft Access Text Driver (*.txt, *.csv)',\n",
       " 'SQL Server Native Client 11.0',\n",
       " 'SQL Server Native Client RDA 11.0',\n",
       " 'ODBC Driver 13 for SQL Server']"
      ]
     },
     "execution_count": 3,
     "metadata": {},
     "output_type": "execute_result"
    }
   ],
   "source": [
    "pyodbc.drivers()"
   ]
  },
  {
   "cell_type": "code",
   "execution_count": 110,
   "metadata": {},
   "outputs": [],
   "source": [
    "conx = pyodbc.connect('DRIVER={SQL Server}; SERVER=tm46; Database=Write_Main_database_of_Medgulf; UID=sa; PWD=***23;  autocommit=True')"
   ]
  },
  {
   "cell_type": "code",
   "execution_count": 111,
   "metadata": {},
   "outputs": [
    {
     "data": {
      "text/plain": [
       "<pyodbc.Connection at 0x26d3eb0c1d0>"
      ]
     },
     "execution_count": 111,
     "metadata": {},
     "output_type": "execute_result"
    }
   ],
   "source": [
    "conx"
   ]
  },
  {
   "cell_type": "code",
   "execution_count": 112,
   "metadata": {},
   "outputs": [],
   "source": [
    "query = \"select top 10 * from CLAIMS where (network_status = 'Active' and policy_type = 'Normal' and age_group is not null);\""
   ]
  },
  {
   "cell_type": "code",
   "execution_count": 113,
   "metadata": {},
   "outputs": [],
   "source": [
    "cursor = conx.cursor();"
   ]
  },
  {
   "cell_type": "code",
   "execution_count": 114,
   "metadata": {},
   "outputs": [],
   "source": [
    "cursor.execute(query);"
   ]
  },
  {
   "cell_type": "code",
   "execution_count": 115,
   "metadata": {},
   "outputs": [],
   "source": [
    "data = cursor.fetchall()"
   ]
  },
  {
   "cell_type": "code",
   "execution_count": 116,
   "metadata": {},
   "outputs": [
    {
     "name": "stdout",
     "output_type": "stream",
     "text": [
      "[(16690751, '48712354', 'GRH/9523325', '2015-01-01', '2016-01-01', '68368996', '10650', 'KINGDOM HOSPITAL  ', '201501172376', 'Settled', '2015-02-08', '2015-02-08', '2015-02-08', '2015-05-13', 'Normal', None, 'Y58', 'Vaccination', 'OUT', 'H-OP', 'Out Patient', '20', 'Medicines/Drugs', '20.01', 'Medication', Decimal('1850.65'), Decimal('178.59'), Decimal('0.00'), Decimal('100.00'), Decimal('0.00'), Decimal('1572.06'), Decimal('0.00'), '201504011941', '20150401', '2', '2015', Decimal('1709.52'), '1709.52', '2015-04-12', '2015-05-13', 'Dr. Ahmed Albeah/Disabled', '2015-05-13', 'Closed', '2015-05-13', '2015-05-13', '2015-04-01', 'AL-QUSSIE INTERNATIONAL CO.  ', 'GRH', Decimal('1572.06'), 'H-OP', 'KSA', 'Riyadh', 'Central Region', 'MG3', 'Hospital', None, None, Decimal('1572.06'), 'TricastClaimsData-01.01.15 to 31.03.19 cleaned_22.csv', 'GRH_9523325_2015-01-01_68368996', '2015-02-01', 'Normal', 'MG2-Private', 'Active', 0, '0-1', 'Group4', 'Child ', 'Female', None, None, Decimal('0.000000'), Decimal('0.200000'), Decimal('0.200000'), Decimal('0.200000'), Decimal('0.000000'), Decimal('0.000000'), Decimal('100.000000'), Decimal('100.000000'), Decimal('100.000000'), Decimal('0.000000'), Decimal('500000.000000'), Decimal('500000.000000'), Decimal('3000.000000'), Decimal('500.000000'), Decimal('15000.000000'), 'Out Patient', 'Out Patient', 'Included', '201501172376', Decimal('0.000000'), None, 1.0, 1572.06, 'LEBANESE', 'Medicines', None, 'Medicines'), (16690752, '48712354', 'GRH/9523325', '2015-01-01', '2016-01-01', '68368996', '10650', 'KINGDOM HOSPITAL  ', '201504036878', 'Settled', '2015-05-13', '2015-02-27', '2015-02-27', '2015-05-13', 'Normal', None, 'J06.9', 'Acute upper respiratory infection, unspecified', 'OUT', 'H-OP', 'Out Patient', '10', 'Professional Fees', '10.02', 'Specialist Consultation', Decimal('154.00'), Decimal('0.00'), Decimal('0.00'), Decimal('30.80'), Decimal('0.00'), Decimal('123.20'), Decimal('0.00'), '201504011941', '20150401', '2', '2015', Decimal('1709.52'), '1709.52', '2015-04-12', '2015-05-13', 'Dr. Ahmed Albeah/Disabled', '2015-05-13', 'Closed', '2015-05-13', '2015-05-13', '2015-04-01', 'AL-QUSSIE INTERNATIONAL CO.  ', 'GRH', Decimal('123.20'), 'H-OP', 'KSA', 'Riyadh', 'Central Region', 'MG3', 'Hospital', None, None, Decimal('137.98'), 'TricastClaimsData-01.01.15 to 31.03.19 cleaned_22.csv', 'GRH_9523325_2015-01-01_68368996', '2015-02-01', 'Normal', 'MG2-Private', 'Active', 0, '0-1', 'Group4', 'Child ', 'Female', None, None, Decimal('0.000000'), Decimal('0.200000'), Decimal('0.200000'), Decimal('0.200000'), Decimal('0.000000'), Decimal('0.000000'), Decimal('100.000000'), Decimal('100.000000'), Decimal('100.000000'), Decimal('0.000000'), Decimal('500000.000000'), Decimal('500000.000000'), Decimal('3000.000000'), Decimal('500.000000'), Decimal('15000.000000'), 'Out Patient', 'Out Patient', 'Included', '201504036878', Decimal('0.000000'), None, 2.0, 123.2, 'LEBANESE', None, None, 'Standard'), (16690753, '48712354', 'GRH/9523325', '2015-01-01', '2016-01-01', '68368996', '10650', 'KINGDOM HOSPITAL  ', '201504036878', 'Settled', '2015-05-13', '2015-02-27', '2015-02-27', '2015-05-13', 'Normal', None, 'J06.9', 'Acute upper respiratory infection, unspecified', 'OUT', 'H-OP', 'Out Patient', '20', 'Medicines/Drugs', '20.01', 'Medication', Decimal('20.30'), Decimal('1.83'), Decimal('0.00'), Decimal('3.69'), Decimal('0.00'), Decimal('14.78'), Decimal('0.00'), '201504011941', '20150401', '2', '2015', Decimal('1709.52'), '1709.52', '2015-04-12', '2015-05-13', 'Dr. Ahmed Albeah/Disabled', '2015-05-13', 'Closed', '2015-05-13', '2015-05-13', '2015-04-01', 'AL-QUSSIE INTERNATIONAL CO.  ', 'GRH', Decimal('14.78'), 'H-OP', 'KSA', 'Riyadh', 'Central Region', 'MG3', 'Hospital', None, None, Decimal('137.98'), 'TricastClaimsData-01.01.15 to 31.03.19 cleaned_22.csv', 'GRH_9523325_2015-01-01_68368996', '2015-02-01', 'Normal', 'MG2-Private', 'Active', 0, '0-1', 'Group4', 'Child ', 'Female', None, None, Decimal('0.000000'), Decimal('0.200000'), Decimal('0.200000'), Decimal('0.200000'), Decimal('0.000000'), Decimal('0.000000'), Decimal('100.000000'), Decimal('100.000000'), Decimal('100.000000'), Decimal('0.000000'), Decimal('500000.000000'), Decimal('500000.000000'), Decimal('3000.000000'), Decimal('500.000000'), Decimal('15000.000000'), 'Out Patient', 'Out Patient', 'Included', '201504036878', Decimal('0.000000'), None, 2.0, 14.78, 'LEBANESE', 'Medicines', None, 'Medicines'), (16690754, '48712354', 'GRH/9523325', '2015-01-01', '2016-01-01', '68391865', '5597160', 'SHIFA AL JAZEERA POLYCLINIC  ', '201502434870', 'Settled', '2015-03-22', '2015-01-22', '2015-01-22', '2015-03-22', 'Normal', None, 'S61', 'Open wound of wrist and hand', 'OUT', 'H-OP', 'Out Patient', '10', 'Professional Fees', '10.01', 'GP Consultation', Decimal('15.00'), Decimal('0.00'), Decimal('0.00'), Decimal('3.00'), Decimal('0.00'), Decimal('12.00'), Decimal('0.00'), '201502161082', '20150216', '1', '2015', Decimal('12.00'), '12', '2015-02-16', '2015-03-22', 'Dr Reem Mohamed Rezwaly', '2015-03-22', 'Closed', '2015-03-23', '2015-03-23', '2015-02-16', 'AL-QUSSIE INTERNATIONAL CO.  ', 'GRH', Decimal('12.00'), 'H-OP', 'KSA', 'Riyadh', 'Central Region', 'MG7', 'Complex', None, None, Decimal('12.00'), 'TricastClaimsData-01.01.15 to 31.03.19 cleaned_22.csv', 'GRH_9523325_2015-01-01_68391865', '2015-01-01', 'Normal', 'MG6-Semi Private', 'Active', 36, '36-40', 'Group2', 'Member', 'Male', None, None, Decimal('0.000000'), Decimal('0.200000'), Decimal('0.200000'), Decimal('0.200000'), Decimal('0.000000'), Decimal('0.000000'), Decimal('100.000000'), Decimal('100.000000'), Decimal('100.000000'), Decimal('0.000000'), Decimal('500000.000000'), Decimal('500000.000000'), Decimal('2000.000000'), Decimal('400.000000'), Decimal('0.000000'), 'Out Patient', 'Out Patient', 'Included', '201502434870', Decimal('0.000000'), None, 1.0, 12.0, 'Bangladesh', None, None, 'Standard'), (16690755, '48712354', 'GRH/9523325', '2015-01-01', '2016-01-01', '68392509', '12459', 'AL SALAM Care Polyclinic  ', '201505021238', 'Settled', '2015-06-10', '2015-04-05', '2015-04-05', '2015-06-10', 'Normal', None, 'J20', 'Acute bronchitis', 'OUT', 'H-OP', 'Out Patient', '10', 'Professional Fees', '10.02', 'Specialist Consultation', Decimal('70.00'), Decimal('35.00'), Decimal('0.00'), Decimal('7.00'), Decimal('0.00'), Decimal('28.00'), Decimal('0.00'), '201505063177', '20150506', '4', '2015', Decimal('149.00'), '149', '2015-05-10', '2015-06-10', 'Dr. Mohamed Badawi /DISABLED', '2015-06-10', 'Closed', '2015-06-10', '2015-06-10', '2015-05-06', 'AL-QUSSIE INTERNATIONAL CO.  ', 'GRH', Decimal('28.00'), 'H-OP', 'KSA', 'Riyadh', 'Central Region', 'MG5', 'Complex', None, None, Decimal('102.40'), 'TricastClaimsData-01.01.15 to 31.03.19 cleaned_22.csv', 'GRH_9523325_2015-01-01_68392509', '2015-04-01', 'Normal', 'MG5-Semi Private', 'Active', 32, '31-35', 'Saudi', 'Member', 'Male', None, None, Decimal('0.000000'), Decimal('0.200000'), Decimal('0.200000'), Decimal('0.200000'), Decimal('0.000000'), Decimal('0.000000'), Decimal('100.000000'), Decimal('100.000000'), Decimal('100.000000'), Decimal('0.000000'), Decimal('500000.000000'), Decimal('500000.000000'), Decimal('2000.000000'), Decimal('400.000000'), Decimal('0.000000'), 'Out Patient', 'Out Patient', 'Included', '201505021238', Decimal('0.000000'), None, 2.0, 28.0, 'SAUDI ARABIA', None, None, 'Standard')]\n"
     ]
    }
   ],
   "source": [
    "print(data[:5])"
   ]
  },
  {
   "cell_type": "code",
   "execution_count": null,
   "metadata": {},
   "outputs": [],
   "source": []
  }
 ],
 "metadata": {
  "kernelspec": {
   "display_name": "Python 3",
   "language": "python",
   "name": "python3"
  },
  "language_info": {
   "codemirror_mode": {
    "name": "ipython",
    "version": 3
   },
   "file_extension": ".py",
   "mimetype": "text/x-python",
   "name": "python",
   "nbconvert_exporter": "python",
   "pygments_lexer": "ipython3",
   "version": "3.7.4"
  }
 },
 "nbformat": 4,
 "nbformat_minor": 2
}
