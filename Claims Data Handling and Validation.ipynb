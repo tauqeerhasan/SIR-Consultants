{
 "cells": [
  {
   "cell_type": "code",
   "execution_count": 1,
   "metadata": {},
   "outputs": [],
   "source": [
    "import pandas as pd"
   ]
  },
  {
   "cell_type": "code",
   "execution_count": 8,
   "metadata": {},
   "outputs": [],
   "source": [
    "df = pd.read_csv(\"D://tauqeer/CLAIMS_DATA/TricastAllClosedClaimsByService_NormalPolicies/TricastAllClosedClaimsByService_NormalPolicies.csv\", sep=\",\", engine='python', quotechar='\"', chunksize=500)"
   ]
  },
  {
   "cell_type": "code",
   "execution_count": 9,
   "metadata": {},
   "outputs": [
    {
     "name": "stdout",
     "output_type": "stream",
     "text": [
      "we have completed  499 lines\n",
      "we have completed  999 lines\n",
      "we have completed  1499 lines\n"
     ]
    }
   ],
   "source": [
    "chunks=[]\n",
    "for chunk in df:\n",
    "#     print(chunk)\n",
    "#     break\n",
    "#     x = x.index()\n",
    "    CII = chunk['Claim Invoice Item'].astype(str)\n",
    "    cii = []\n",
    "    for x, y in chunk['Claim Invoice Item'].items():\n",
    "        try:\n",
    "            a = CII[x]\n",
    "            a = a.replace('\\r\\n','')\n",
    "            a = ' '.join(a.split())\n",
    "            cii.append(a)\n",
    "\n",
    "\n",
    "        except:\n",
    "            pass\n",
    "\n",
    "    chunk['Claim Invoice Item'] = cii\n",
    "    chunk['Claim Invoice Item'] = chunk['Claim Invoice Item'].replace('nan', '')\n",
    "    chunks.append(chunk)\n",
    "    print ('we have completed ', x, 'lines')\n",
    "    \n",
    "    if x == 1499:\n",
    "        break\n",
    "    \n",
    "dfn = pd.concat(chunks, ignore_index=True)\n",
    "dfn.to_csv('New Claim Normal Policies.txt', index =False) "
   ]
  },
  {
   "cell_type": "code",
   "execution_count": 43,
   "metadata": {},
   "outputs": [],
   "source": [
    "# Practice on scr data, spliting(chunking) then merging.\n",
    "df = pd.read_csv(\"SCR.txt\", sep=\",\", engine='python', quotechar='\"', chunksize=5)\n",
    "\n",
    "chunks=[]\n",
    "for chunk in df:\n",
    "    chunks.append(chunk)\n",
    "dfn = pd.concat(chunks, ignore_index=True)"
   ]
  },
  {
   "cell_type": "code",
   "execution_count": 172,
   "metadata": {},
   "outputs": [],
   "source": [
    "dfn.to_csv('New Claim Normal Policies.txt', index =False) "
   ]
  },
  {
   "cell_type": "code",
   "execution_count": 160,
   "metadata": {},
   "outputs": [
    {
     "name": "stdout",
     "output_type": "stream",
     "text": [
      "Medication\n"
     ]
    }
   ],
   "source": [
    "for chunk in df:\n",
    "    for c in chunk['Claim Invoice Item']:\n",
    "        print (c)\n",
    "        break\n",
    "    break\n"
   ]
  },
  {
   "cell_type": "code",
   "execution_count": 163,
   "metadata": {},
   "outputs": [
    {
     "data": {
      "text/plain": [
       "pandas.core.series.Series"
      ]
     },
     "execution_count": 163,
     "metadata": {},
     "output_type": "execute_result"
    }
   ],
   "source": [
    "type(chunk['Claim Invoice Item'])"
   ]
  }
 ],
 "metadata": {
  "kernelspec": {
   "display_name": "Python 3",
   "language": "python",
   "name": "python3"
  },
  "language_info": {
   "codemirror_mode": {
    "name": "ipython",
    "version": 3
   },
   "file_extension": ".py",
   "mimetype": "text/x-python",
   "name": "python",
   "nbconvert_exporter": "python",
   "pygments_lexer": "ipython3",
   "version": "3.7.4"
  }
 },
 "nbformat": 4,
 "nbformat_minor": 2
}
